{
 "cells": [
  {
   "cell_type": "markdown",
   "metadata": {},
   "source": [
    "## **招行公奔私研究留档代码1-预处理**"
   ]
  },
  {
   "cell_type": "markdown",
   "metadata": {},
   "source": [
    "### 1. 对数据格式进行处理 "
   ]
  },
  {
   "cell_type": "markdown",
   "metadata": {},
   "source": [
    "读取净值数据，统一为gbk格式的csv，如已执行可跳过"
   ]
  },
  {
   "cell_type": "code",
   "execution_count": 5,
   "metadata": {},
   "outputs": [
    {
     "name": "stdout",
     "output_type": "stream",
     "text": [
      "文件 ../data/raw/私募_净值_复合策略.csv 使用 gbk 读取成功!\n",
      "文件 ../data/raw/私募_净值_相对价值.csv 使用 utf-8 读取成功!\n",
      "文件 ../data/raw/私募_净值_股票主观.csv 使用 utf-8 读取成功!\n",
      "文件 ../data/raw/私募_净值_股票多头.csv 使用 utf-8 读取成功!\n",
      "处理完成!\n"
     ]
    }
   ],
   "source": [
    "import pandas as pd\n",
    "\n",
    "# 文件名列表\n",
    "files = [\n",
    "    \"../data/raw/私募_净值_复合策略.csv\",\n",
    "    \"../data/raw/私募_净值_相对价值.csv\",\n",
    "    \"../data/raw/私募_净值_股票主观.csv\",\n",
    "    \"../data/raw/私募_净值_股票多头.csv\"\n",
    "]\n",
    "\n",
    "# 尝试的编码列表\n",
    "encodings = [\"utf-8\", \"gbk\", \"gb18030\", \"utf-16\"]\n",
    "\n",
    "for file in files:\n",
    "    data = None\n",
    "    for encoding in encodings:\n",
    "        try:\n",
    "            data = pd.read_csv(file, encoding=encoding)\n",
    "            print(f\"文件 {file} 使用 {encoding} 读取成功!\")\n",
    "            break\n",
    "        except:\n",
    "            pass\n",
    "    \n",
    "    # 如果成功读取数据，使用gbk重新写入\n",
    "    if data is not None:\n",
    "        data.to_csv(file, index=False, encoding=\"gbk\")\n",
    "    else:\n",
    "        print(f\"文件 {file} 使用所有列出的编码都无法读取。\")\n",
    "\n",
    "print(\"处理完成!\")"
   ]
  }
 ],
 "metadata": {
  "kernelspec": {
   "display_name": "cmb",
   "language": "python",
   "name": "python3"
  },
  "language_info": {
   "codemirror_mode": {
    "name": "ipython",
    "version": 3
   },
   "file_extension": ".py",
   "mimetype": "text/x-python",
   "name": "python",
   "nbconvert_exporter": "python",
   "pygments_lexer": "ipython3",
   "version": "3.10.12"
  },
  "orig_nbformat": 4
 },
 "nbformat": 4,
 "nbformat_minor": 2
}
